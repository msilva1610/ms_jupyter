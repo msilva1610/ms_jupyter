{
 "cells": [
  {
   "cell_type": "code",
   "execution_count": null,
   "id": "586e2b89",
   "metadata": {},
   "outputs": [],
   "source": [
    "# !pip install pyod\n",
    "# %load_ext autotime"
   ]
  },
  {
   "cell_type": "code",
   "execution_count": 1,
   "id": "4fc12cc2",
   "metadata": {},
   "outputs": [
    {
     "name": "stdout",
     "output_type": "stream",
     "text": [
      "time: 0 ns (started: 2023-09-07 10:22:20 -03:00)\n"
     ]
    }
   ],
   "source": [
    "%load_ext autotime"
   ]
  },
  {
   "cell_type": "code",
   "execution_count": 2,
   "id": "131e759d",
   "metadata": {},
   "outputs": [
    {
     "name": "stdout",
     "output_type": "stream",
     "text": [
      "time: 2.19 s (started: 2023-09-07 10:22:23 -03:00)\n"
     ]
    }
   ],
   "source": [
    "import pandas as pd\n",
    "from CalcularDezenas import CalcularDezenas as cd\n",
    "import itertools\n",
    "import swifter\n",
    "from collections import Counter\n",
    "import os\n",
    "import glob"
   ]
  },
  {
   "cell_type": "code",
   "execution_count": 3,
   "id": "70b715b9",
   "metadata": {},
   "outputs": [
    {
     "data": {
      "text/plain": [
       "'E:\\\\Arquivos\\\\devops\\\\melhor-aposta-ms-final\\\\codigo_jupyter\\\\analisa_resultados_ms'"
      ]
     },
     "execution_count": 3,
     "metadata": {},
     "output_type": "execute_result"
    },
    {
     "name": "stdout",
     "output_type": "stream",
     "text": [
      "time: 0 ns (started: 2023-09-07 10:22:25 -03:00)\n"
     ]
    }
   ],
   "source": [
    "os.getcwd()"
   ]
  },
  {
   "cell_type": "code",
   "execution_count": 104,
   "id": "338fb856",
   "metadata": {},
   "outputs": [
    {
     "name": "stdout",
     "output_type": "stream",
     "text": [
      "time: 0 ns (started: 2023-09-07 13:52:40 -03:00)\n"
     ]
    }
   ],
   "source": [
    "pd.set_option('display.max_colwidth', None)\n",
    "pd.options.mode.chained_assignment = None "
   ]
  },
  {
   "cell_type": "code",
   "execution_count": 105,
   "id": "6cc287af",
   "metadata": {},
   "outputs": [
    {
     "name": "stdout",
     "output_type": "stream",
     "text": [
      "time: 0 ns (started: 2023-09-07 13:52:41 -03:00)\n"
     ]
    }
   ],
   "source": [
    "# %load_ext autotime"
   ]
  },
  {
   "cell_type": "code",
   "execution_count": 106,
   "id": "79ecee13",
   "metadata": {},
   "outputs": [
    {
     "name": "stdout",
     "output_type": "stream",
     "text": [
      "time: 734 ms (started: 2023-09-07 13:52:41 -03:00)\n"
     ]
    },
    {
     "name": "stderr",
     "output_type": "stream",
     "text": [
      "C:\\Users\\PC PERFORMANCE\\AppData\\Local\\Temp\\ipykernel_13936\\1972361050.py:1: UserWarning: Parsing dates in DD/MM/YYYY format when dayfirst=False (the default) was specified. This may lead to inconsistently parsed dates! Specify a format to ensure consistent parsing.\n",
      "  df = pd.read_excel('../../data/resultados-caixa/Mega-Sena.xlsx', parse_dates=['Data do Sorteio'])\n"
     ]
    }
   ],
   "source": [
    "df = pd.read_excel('../../data/resultados-caixa/Mega-Sena.xlsx', parse_dates=['Data do Sorteio'])"
   ]
  },
  {
   "cell_type": "code",
   "execution_count": 107,
   "id": "f7c686d6",
   "metadata": {},
   "outputs": [
    {
     "name": "stdout",
     "output_type": "stream",
     "text": [
      "<class 'pandas.core.frame.DataFrame'>\n",
      "RangeIndex: 2616 entries, 0 to 2615\n",
      "Data columns (total 20 columns):\n",
      " #   Column                                     Non-Null Count  Dtype         \n",
      "---  ------                                     --------------  -----         \n",
      " 0   Concurso                                   2616 non-null   int64         \n",
      " 1   Data do Sorteio                            2616 non-null   datetime64[ns]\n",
      " 2   Bola1                                      2616 non-null   int64         \n",
      " 3   Bola2                                      2616 non-null   int64         \n",
      " 4   Bola3                                      2616 non-null   int64         \n",
      " 5   Bola4                                      2616 non-null   int64         \n",
      " 6   Bola5                                      2616 non-null   int64         \n",
      " 7   Bola6                                      2616 non-null   int64         \n",
      " 8   Ganhadores 6 acertos                       2616 non-null   int64         \n",
      " 9   Cidade / UF                                569 non-null    object        \n",
      " 10  Rateio 6 acertos                           2616 non-null   object        \n",
      " 11  Ganhadores 5 acertos                       2616 non-null   int64         \n",
      " 12  Rateio 5 acertos                           2616 non-null   object        \n",
      " 13  Ganhadores 4 acertos                       2616 non-null   int64         \n",
      " 14  Rateio 4 acertos                           2616 non-null   object        \n",
      " 15  Acumulado 6 acertos                        2616 non-null   object        \n",
      " 16  Arrecadação Total                          2616 non-null   object        \n",
      " 17  Estimativa prêmio                          2616 non-null   object        \n",
      " 18  Acumulado Sorteio Especial Mega da Virada  2616 non-null   object        \n",
      " 19  Observação                                 894 non-null    object        \n",
      "dtypes: datetime64[ns](1), int64(10), object(9)\n",
      "memory usage: 408.9+ KB\n",
      "time: 15 ms (started: 2023-09-07 13:52:42 -03:00)\n"
     ]
    }
   ],
   "source": [
    "df.info()"
   ]
  },
  {
   "cell_type": "code",
   "execution_count": 108,
   "id": "87fa2142",
   "metadata": {},
   "outputs": [
    {
     "name": "stdout",
     "output_type": "stream",
     "text": [
      "time: 15 ms (started: 2023-09-07 13:52:42 -03:00)\n"
     ]
    }
   ],
   "source": [
    "df.fillna('', inplace=True)"
   ]
  },
  {
   "cell_type": "code",
   "execution_count": 109,
   "id": "96afeabe",
   "metadata": {},
   "outputs": [
    {
     "name": "stdout",
     "output_type": "stream",
     "text": [
      "time: 31 ms (started: 2023-09-07 13:52:44 -03:00)\n"
     ]
    }
   ],
   "source": [
    "df.replace('\\n',' ', regex=True, inplace=True)"
   ]
  },
  {
   "cell_type": "code",
   "execution_count": 110,
   "id": "1318a48f",
   "metadata": {},
   "outputs": [
    {
     "name": "stdout",
     "output_type": "stream",
     "text": [
      "time: 0 ns (started: 2023-09-07 13:52:44 -03:00)\n"
     ]
    }
   ],
   "source": [
    "\n",
    "dict_col = {'Concurso': 'Concurso', \n",
    "            'Data do Sorteio': 'Data Sorteio',\n",
    "            'Bola1': 'Dez01',\n",
    "            'Bola2': 'Dez02',\n",
    "            'Bola3': 'Dez03',\n",
    "            'Bola4': 'Dez04',\n",
    "            'Bola5': 'Dez05',\n",
    "            'Bola6': 'Dez06',\n",
    "            'Ganhadores 6 acertos': 'Ganhadores Faixa 1',\n",
    "            'Cidade / UF': 'Cidade',\n",
    "            'Rateio 6 acertos': 'Rateio Faixa 1',\n",
    "            'Ganhadores 5 acertos': 'Ganhadores Faixa 2', \n",
    "            'Rateio 5 acertos': 'Rateio Faixa 2',\n",
    "            'Ganhadores 4 acertos': 'Ganhadores Faixa 3',  \n",
    "            'Rateio 4 acertos': 'Rateio Faixa 3',  \n",
    "            'Acumulado 6 acertos':'Valor Acumulado Próximo Concurso',\n",
    "            'Arrecadação Total':'Valor Arrecadado',\n",
    "            'Estimativa prêmio':'Estimativa para o próximo concurso',\n",
    "            'Acumulado Sorteio Especial Mega da Virada':'Sorteio Especial',\n",
    "            'Observação':'Observação'}"
   ]
  },
  {
   "cell_type": "code",
   "execution_count": 111,
   "id": "64d11e15",
   "metadata": {},
   "outputs": [
    {
     "name": "stdout",
     "output_type": "stream",
     "text": [
      "time: 0 ns (started: 2023-09-07 13:52:45 -03:00)\n"
     ]
    }
   ],
   "source": [
    "df.rename(columns=dict_col,\n",
    "           inplace=True)"
   ]
  },
  {
   "cell_type": "markdown",
   "id": "47a544a8",
   "metadata": {},
   "source": [
    "# Preparação da base"
   ]
  },
  {
   "cell_type": "code",
   "execution_count": 112,
   "id": "3dee6b78",
   "metadata": {},
   "outputs": [
    {
     "name": "stdout",
     "output_type": "stream",
     "text": [
      "time: 0 ns (started: 2023-09-07 13:52:46 -03:00)\n"
     ]
    }
   ],
   "source": [
    "def ret_dezenas(d1,d2,d3,d4,d5,d6):\n",
    "    return [d1,d2,d3,d4,d5,d6]"
   ]
  },
  {
   "cell_type": "code",
   "execution_count": 113,
   "id": "5d0939c6",
   "metadata": {},
   "outputs": [
    {
     "name": "stdout",
     "output_type": "stream",
     "text": [
      "time: 0 ns (started: 2023-09-07 13:52:46 -03:00)\n"
     ]
    }
   ],
   "source": [
    "# df = calc_df"
   ]
  },
  {
   "cell_type": "code",
   "execution_count": 114,
   "id": "c0f7013a",
   "metadata": {},
   "outputs": [
    {
     "name": "stdout",
     "output_type": "stream",
     "text": [
      "time: 63 ms (started: 2023-09-07 13:52:47 -03:00)\n"
     ]
    }
   ],
   "source": [
    "df['dezenas'] = df.apply(lambda x:ret_dezenas(x['Dez01'],x['Dez02'],x['Dez03'], x['Dez04'], x['Dez05'], x['Dez06'],), axis = 1)"
   ]
  },
  {
   "cell_type": "code",
   "execution_count": 115,
   "id": "a83e385f",
   "metadata": {
    "scrolled": true
   },
   "outputs": [
    {
     "data": {
      "text/html": [
       "<div>\n",
       "<style scoped>\n",
       "    .dataframe tbody tr th:only-of-type {\n",
       "        vertical-align: middle;\n",
       "    }\n",
       "\n",
       "    .dataframe tbody tr th {\n",
       "        vertical-align: top;\n",
       "    }\n",
       "\n",
       "    .dataframe thead th {\n",
       "        text-align: right;\n",
       "    }\n",
       "</style>\n",
       "<table border=\"1\" class=\"dataframe\">\n",
       "  <thead>\n",
       "    <tr style=\"text-align: right;\">\n",
       "      <th></th>\n",
       "      <th>Concurso</th>\n",
       "      <th>Data Sorteio</th>\n",
       "      <th>Dez01</th>\n",
       "      <th>Dez02</th>\n",
       "      <th>Dez03</th>\n",
       "      <th>Dez04</th>\n",
       "      <th>Dez05</th>\n",
       "      <th>Dez06</th>\n",
       "      <th>Ganhadores Faixa 1</th>\n",
       "      <th>Cidade</th>\n",
       "      <th>...</th>\n",
       "      <th>Ganhadores Faixa 2</th>\n",
       "      <th>Rateio Faixa 2</th>\n",
       "      <th>Ganhadores Faixa 3</th>\n",
       "      <th>Rateio Faixa 3</th>\n",
       "      <th>Valor Acumulado Próximo Concurso</th>\n",
       "      <th>Valor Arrecadado</th>\n",
       "      <th>Estimativa para o próximo concurso</th>\n",
       "      <th>Sorteio Especial</th>\n",
       "      <th>Observação</th>\n",
       "      <th>dezenas</th>\n",
       "    </tr>\n",
       "  </thead>\n",
       "  <tbody>\n",
       "    <tr>\n",
       "      <th>0</th>\n",
       "      <td>1</td>\n",
       "      <td>1996-11-03</td>\n",
       "      <td>4</td>\n",
       "      <td>5</td>\n",
       "      <td>30</td>\n",
       "      <td>33</td>\n",
       "      <td>41</td>\n",
       "      <td>52</td>\n",
       "      <td>0</td>\n",
       "      <td></td>\n",
       "      <td>...</td>\n",
       "      <td>17</td>\n",
       "      <td>R$39.158,92</td>\n",
       "      <td>2016</td>\n",
       "      <td>R$330,21</td>\n",
       "      <td>R$1.714.650,23</td>\n",
       "      <td>R$0,00</td>\n",
       "      <td>R$0,00</td>\n",
       "      <td>R$0,00</td>\n",
       "      <td></td>\n",
       "      <td>[4, 5, 30, 33, 41, 52]</td>\n",
       "    </tr>\n",
       "    <tr>\n",
       "      <th>1</th>\n",
       "      <td>2</td>\n",
       "      <td>1996-03-18</td>\n",
       "      <td>9</td>\n",
       "      <td>37</td>\n",
       "      <td>39</td>\n",
       "      <td>41</td>\n",
       "      <td>43</td>\n",
       "      <td>49</td>\n",
       "      <td>1</td>\n",
       "      <td>PR</td>\n",
       "      <td>...</td>\n",
       "      <td>65</td>\n",
       "      <td>R$14.424,02</td>\n",
       "      <td>4488</td>\n",
       "      <td>R$208,91</td>\n",
       "      <td>R$0,00</td>\n",
       "      <td>R$0,00</td>\n",
       "      <td>R$0,00</td>\n",
       "      <td>R$0,00</td>\n",
       "      <td></td>\n",
       "      <td>[9, 37, 39, 41, 43, 49]</td>\n",
       "    </tr>\n",
       "    <tr>\n",
       "      <th>2</th>\n",
       "      <td>3</td>\n",
       "      <td>1996-03-25</td>\n",
       "      <td>10</td>\n",
       "      <td>11</td>\n",
       "      <td>29</td>\n",
       "      <td>30</td>\n",
       "      <td>36</td>\n",
       "      <td>47</td>\n",
       "      <td>2</td>\n",
       "      <td>RN;  SP</td>\n",
       "      <td>...</td>\n",
       "      <td>62</td>\n",
       "      <td>R$10.515,93</td>\n",
       "      <td>4261</td>\n",
       "      <td>R$153,01</td>\n",
       "      <td>R$0,00</td>\n",
       "      <td>R$0,00</td>\n",
       "      <td>R$0,00</td>\n",
       "      <td>R$0,00</td>\n",
       "      <td></td>\n",
       "      <td>[10, 11, 29, 30, 36, 47]</td>\n",
       "    </tr>\n",
       "    <tr>\n",
       "      <th>3</th>\n",
       "      <td>4</td>\n",
       "      <td>1996-01-04</td>\n",
       "      <td>1</td>\n",
       "      <td>5</td>\n",
       "      <td>6</td>\n",
       "      <td>27</td>\n",
       "      <td>42</td>\n",
       "      <td>59</td>\n",
       "      <td>0</td>\n",
       "      <td></td>\n",
       "      <td>...</td>\n",
       "      <td>39</td>\n",
       "      <td>R$15.322,24</td>\n",
       "      <td>3311</td>\n",
       "      <td>R$180,48</td>\n",
       "      <td>R$717.080,75</td>\n",
       "      <td>R$0,00</td>\n",
       "      <td>R$0,00</td>\n",
       "      <td>R$0,00</td>\n",
       "      <td></td>\n",
       "      <td>[1, 5, 6, 27, 42, 59]</td>\n",
       "    </tr>\n",
       "    <tr>\n",
       "      <th>4</th>\n",
       "      <td>5</td>\n",
       "      <td>1996-08-04</td>\n",
       "      <td>1</td>\n",
       "      <td>2</td>\n",
       "      <td>6</td>\n",
       "      <td>16</td>\n",
       "      <td>19</td>\n",
       "      <td>46</td>\n",
       "      <td>0</td>\n",
       "      <td></td>\n",
       "      <td>...</td>\n",
       "      <td>98</td>\n",
       "      <td>R$5.318,10</td>\n",
       "      <td>5399</td>\n",
       "      <td>R$96,53</td>\n",
       "      <td>R$1.342.488,85</td>\n",
       "      <td>R$0,00</td>\n",
       "      <td>R$0,00</td>\n",
       "      <td>R$0,00</td>\n",
       "      <td></td>\n",
       "      <td>[1, 2, 6, 16, 19, 46]</td>\n",
       "    </tr>\n",
       "    <tr>\n",
       "      <th>...</th>\n",
       "      <td>...</td>\n",
       "      <td>...</td>\n",
       "      <td>...</td>\n",
       "      <td>...</td>\n",
       "      <td>...</td>\n",
       "      <td>...</td>\n",
       "      <td>...</td>\n",
       "      <td>...</td>\n",
       "      <td>...</td>\n",
       "      <td>...</td>\n",
       "      <td>...</td>\n",
       "      <td>...</td>\n",
       "      <td>...</td>\n",
       "      <td>...</td>\n",
       "      <td>...</td>\n",
       "      <td>...</td>\n",
       "      <td>...</td>\n",
       "      <td>...</td>\n",
       "      <td>...</td>\n",
       "      <td>...</td>\n",
       "      <td>...</td>\n",
       "    </tr>\n",
       "    <tr>\n",
       "      <th>2611</th>\n",
       "      <td>2612</td>\n",
       "      <td>2023-07-19</td>\n",
       "      <td>20</td>\n",
       "      <td>27</td>\n",
       "      <td>34</td>\n",
       "      <td>44</td>\n",
       "      <td>50</td>\n",
       "      <td>54</td>\n",
       "      <td>0</td>\n",
       "      <td></td>\n",
       "      <td>...</td>\n",
       "      <td>50</td>\n",
       "      <td>R$90.719,26</td>\n",
       "      <td>3638</td>\n",
       "      <td>R$1.781,18</td>\n",
       "      <td>R$49.260.663,27</td>\n",
       "      <td>R$78.673.555,00</td>\n",
       "      <td>R$60.000.000,00</td>\n",
       "      <td>R$61.356.654,15</td>\n",
       "      <td></td>\n",
       "      <td>[20, 27, 34, 44, 50, 54]</td>\n",
       "    </tr>\n",
       "    <tr>\n",
       "      <th>2612</th>\n",
       "      <td>2613</td>\n",
       "      <td>2023-07-22</td>\n",
       "      <td>14</td>\n",
       "      <td>26</td>\n",
       "      <td>40</td>\n",
       "      <td>42</td>\n",
       "      <td>46</td>\n",
       "      <td>52</td>\n",
       "      <td>0</td>\n",
       "      <td></td>\n",
       "      <td>...</td>\n",
       "      <td>70</td>\n",
       "      <td>R$80.398,82</td>\n",
       "      <td>5774</td>\n",
       "      <td>R$1.392,42</td>\n",
       "      <td>R$59.627.878,97</td>\n",
       "      <td>R$97.612.840,00</td>\n",
       "      <td>R$70.000.000,00</td>\n",
       "      <td>R$62.837.684,98</td>\n",
       "      <td></td>\n",
       "      <td>[14, 26, 40, 42, 46, 52]</td>\n",
       "    </tr>\n",
       "    <tr>\n",
       "      <th>2613</th>\n",
       "      <td>2614</td>\n",
       "      <td>2023-07-25</td>\n",
       "      <td>3</td>\n",
       "      <td>8</td>\n",
       "      <td>13</td>\n",
       "      <td>14</td>\n",
       "      <td>19</td>\n",
       "      <td>25</td>\n",
       "      <td>3</td>\n",
       "      <td>CANAL ELETRONICO;  CONTAGEM/MG</td>\n",
       "      <td>...</td>\n",
       "      <td>251</td>\n",
       "      <td>R$18.624,27</td>\n",
       "      <td>12145</td>\n",
       "      <td>R$549,86</td>\n",
       "      <td>R$26.710.218,14</td>\n",
       "      <td>R$81.079.690,00</td>\n",
       "      <td>R$33.000.000,00</td>\n",
       "      <td>R$64.067.866,59</td>\n",
       "      <td></td>\n",
       "      <td>[3, 8, 13, 14, 19, 25]</td>\n",
       "    </tr>\n",
       "    <tr>\n",
       "      <th>2614</th>\n",
       "      <td>2615</td>\n",
       "      <td>2023-07-27</td>\n",
       "      <td>5</td>\n",
       "      <td>7</td>\n",
       "      <td>22</td>\n",
       "      <td>23</td>\n",
       "      <td>41</td>\n",
       "      <td>59</td>\n",
       "      <td>0</td>\n",
       "      <td></td>\n",
       "      <td>...</td>\n",
       "      <td>82</td>\n",
       "      <td>R$37.333,91</td>\n",
       "      <td>5737</td>\n",
       "      <td>R$762,31</td>\n",
       "      <td>R$32.349.603,79</td>\n",
       "      <td>R$53.097.810,00</td>\n",
       "      <td>R$40.000.000,00</td>\n",
       "      <td>R$64.873.493,13</td>\n",
       "      <td></td>\n",
       "      <td>[5, 7, 22, 23, 41, 59]</td>\n",
       "    </tr>\n",
       "    <tr>\n",
       "      <th>2615</th>\n",
       "      <td>2616</td>\n",
       "      <td>2023-07-29</td>\n",
       "      <td>6</td>\n",
       "      <td>16</td>\n",
       "      <td>23</td>\n",
       "      <td>35</td>\n",
       "      <td>38</td>\n",
       "      <td>49</td>\n",
       "      <td>0</td>\n",
       "      <td></td>\n",
       "      <td>...</td>\n",
       "      <td>103</td>\n",
       "      <td>R$39.221,73</td>\n",
       "      <td>6817</td>\n",
       "      <td>R$846,58</td>\n",
       "      <td>R$39.791.409,84</td>\n",
       "      <td>R$70.068.555,00</td>\n",
       "      <td>R$50.000.000,00</td>\n",
       "      <td>R$65.936.608,29</td>\n",
       "      <td></td>\n",
       "      <td>[6, 16, 23, 35, 38, 49]</td>\n",
       "    </tr>\n",
       "  </tbody>\n",
       "</table>\n",
       "<p>2616 rows × 21 columns</p>\n",
       "</div>"
      ],
      "text/plain": [
       "      Concurso Data Sorteio  Dez01  Dez02  Dez03  Dez04  Dez05  Dez06  \\\n",
       "0            1   1996-11-03      4      5     30     33     41     52   \n",
       "1            2   1996-03-18      9     37     39     41     43     49   \n",
       "2            3   1996-03-25     10     11     29     30     36     47   \n",
       "3            4   1996-01-04      1      5      6     27     42     59   \n",
       "4            5   1996-08-04      1      2      6     16     19     46   \n",
       "...        ...          ...    ...    ...    ...    ...    ...    ...   \n",
       "2611      2612   2023-07-19     20     27     34     44     50     54   \n",
       "2612      2613   2023-07-22     14     26     40     42     46     52   \n",
       "2613      2614   2023-07-25      3      8     13     14     19     25   \n",
       "2614      2615   2023-07-27      5      7     22     23     41     59   \n",
       "2615      2616   2023-07-29      6     16     23     35     38     49   \n",
       "\n",
       "      Ganhadores Faixa 1                          Cidade  ...  \\\n",
       "0                      0                                  ...   \n",
       "1                      1                              PR  ...   \n",
       "2                      2                         RN;  SP  ...   \n",
       "3                      0                                  ...   \n",
       "4                      0                                  ...   \n",
       "...                  ...                             ...  ...   \n",
       "2611                   0                                  ...   \n",
       "2612                   0                                  ...   \n",
       "2613                   3  CANAL ELETRONICO;  CONTAGEM/MG  ...   \n",
       "2614                   0                                  ...   \n",
       "2615                   0                                  ...   \n",
       "\n",
       "     Ganhadores Faixa 2  Rateio Faixa 2 Ganhadores Faixa 3  Rateio Faixa 3  \\\n",
       "0                    17     R$39.158,92               2016        R$330,21   \n",
       "1                    65     R$14.424,02               4488        R$208,91   \n",
       "2                    62     R$10.515,93               4261        R$153,01   \n",
       "3                    39     R$15.322,24               3311        R$180,48   \n",
       "4                    98      R$5.318,10               5399         R$96,53   \n",
       "...                 ...             ...                ...             ...   \n",
       "2611                 50     R$90.719,26               3638      R$1.781,18   \n",
       "2612                 70     R$80.398,82               5774      R$1.392,42   \n",
       "2613                251     R$18.624,27              12145        R$549,86   \n",
       "2614                 82     R$37.333,91               5737        R$762,31   \n",
       "2615                103     R$39.221,73               6817        R$846,58   \n",
       "\n",
       "     Valor Acumulado Próximo Concurso Valor Arrecadado  \\\n",
       "0                      R$1.714.650,23           R$0,00   \n",
       "1                              R$0,00           R$0,00   \n",
       "2                              R$0,00           R$0,00   \n",
       "3                        R$717.080,75           R$0,00   \n",
       "4                      R$1.342.488,85           R$0,00   \n",
       "...                               ...              ...   \n",
       "2611                  R$49.260.663,27  R$78.673.555,00   \n",
       "2612                  R$59.627.878,97  R$97.612.840,00   \n",
       "2613                  R$26.710.218,14  R$81.079.690,00   \n",
       "2614                  R$32.349.603,79  R$53.097.810,00   \n",
       "2615                  R$39.791.409,84  R$70.068.555,00   \n",
       "\n",
       "     Estimativa para o próximo concurso Sorteio Especial Observação  \\\n",
       "0                                R$0,00           R$0,00              \n",
       "1                                R$0,00           R$0,00              \n",
       "2                                R$0,00           R$0,00              \n",
       "3                                R$0,00           R$0,00              \n",
       "4                                R$0,00           R$0,00              \n",
       "...                                 ...              ...        ...   \n",
       "2611                    R$60.000.000,00  R$61.356.654,15              \n",
       "2612                    R$70.000.000,00  R$62.837.684,98              \n",
       "2613                    R$33.000.000,00  R$64.067.866,59              \n",
       "2614                    R$40.000.000,00  R$64.873.493,13              \n",
       "2615                    R$50.000.000,00  R$65.936.608,29              \n",
       "\n",
       "                       dezenas  \n",
       "0       [4, 5, 30, 33, 41, 52]  \n",
       "1      [9, 37, 39, 41, 43, 49]  \n",
       "2     [10, 11, 29, 30, 36, 47]  \n",
       "3        [1, 5, 6, 27, 42, 59]  \n",
       "4        [1, 2, 6, 16, 19, 46]  \n",
       "...                        ...  \n",
       "2611  [20, 27, 34, 44, 50, 54]  \n",
       "2612  [14, 26, 40, 42, 46, 52]  \n",
       "2613    [3, 8, 13, 14, 19, 25]  \n",
       "2614    [5, 7, 22, 23, 41, 59]  \n",
       "2615   [6, 16, 23, 35, 38, 49]  \n",
       "\n",
       "[2616 rows x 21 columns]"
      ]
     },
     "execution_count": 115,
     "metadata": {},
     "output_type": "execute_result"
    },
    {
     "name": "stdout",
     "output_type": "stream",
     "text": [
      "time: 31 ms (started: 2023-09-07 13:52:47 -03:00)\n"
     ]
    }
   ],
   "source": [
    "df"
   ]
  },
  {
   "cell_type": "markdown",
   "id": "11abc54c",
   "metadata": {},
   "source": [
    "# Métodos matemáticos envolvidos nos calculos"
   ]
  },
  {
   "cell_type": "markdown",
   "id": "1509d872",
   "metadata": {},
   "source": [
    "## 1- CalculaParImparSomaDez"
   ]
  },
  {
   "cell_type": "code",
   "execution_count": 116,
   "id": "3e267bd8",
   "metadata": {},
   "outputs": [
    {
     "name": "stdout",
     "output_type": "stream",
     "text": [
      "time: 16 ms (started: 2023-09-07 13:52:49 -03:00)\n"
     ]
    }
   ],
   "source": [
    "def CalculaParImparSomaDez(dezenas):\n",
    "    cdcl = cd()\n",
    "    resultado = cdcl.CalculaParImparSomaDez(dezenas)\n",
    "    return resultado"
   ]
  },
  {
   "cell_type": "markdown",
   "id": "efdc81fd",
   "metadata": {},
   "source": [
    "## 2- CalculaPA"
   ]
  },
  {
   "cell_type": "code",
   "execution_count": 117,
   "id": "b68955a3",
   "metadata": {},
   "outputs": [
    {
     "name": "stdout",
     "output_type": "stream",
     "text": [
      "time: 0 ns (started: 2023-09-07 13:52:49 -03:00)\n"
     ]
    }
   ],
   "source": [
    "def CalculaPA(dezenas):\n",
    "    cdcl = cd()\n",
    "    resultado = cdcl.CalculaPA(dezenas)\n",
    "    return resultado"
   ]
  },
  {
   "cell_type": "markdown",
   "id": "1ff2f7b0",
   "metadata": {},
   "source": [
    "## 3 - SomaDigitosDezenas"
   ]
  },
  {
   "cell_type": "code",
   "execution_count": 118,
   "id": "533adb69",
   "metadata": {},
   "outputs": [
    {
     "name": "stdout",
     "output_type": "stream",
     "text": [
      "time: 16 ms (started: 2023-09-07 13:52:50 -03:00)\n"
     ]
    }
   ],
   "source": [
    "def SomaDigitosDezenas(dezenas):\n",
    "    cdcl = cd()\n",
    "    soma_dos_digitos_das_dezenas, somaok = cdcl.SomaDigitosDezenas(dezenas)\n",
    "    resultado = soma_dos_digitos_das_dezenas\n",
    "    return resultado\n",
    "\n",
    "def SomaDigitosDezenasOk(dezenas):\n",
    "    cdcl = cd()\n",
    "    soma_dos_digitos_das_dezenas, somaok = cdcl.SomaDigitosDezenas(dezenas)\n",
    "    resultado = somaok\n",
    "    return resultado"
   ]
  },
  {
   "cell_type": "markdown",
   "id": "21e353df",
   "metadata": {},
   "source": [
    "## 4- CalculaPresencaDigitos"
   ]
  },
  {
   "cell_type": "code",
   "execution_count": 119,
   "id": "75e48443",
   "metadata": {},
   "outputs": [
    {
     "name": "stdout",
     "output_type": "stream",
     "text": [
      "time: 0 ns (started: 2023-09-07 13:52:51 -03:00)\n"
     ]
    }
   ],
   "source": [
    "def CalculaPresencaDigitos_TotalDigitos(dezenas):\n",
    "    cdcl = cd()\n",
    "    TotalDigitos, TotalDigitosok = cdcl.CalculaPresencaDigitos(dezenas)\n",
    "    resultado = TotalDigitos\n",
    "    return resultado\n",
    "\n",
    "def CalculaPresencaDigitos_TotalDigitosok(dezenas):\n",
    "    cdcl = cd()\n",
    "    TotalDigitos, TotalDigitosok = cdcl.CalculaPresencaDigitos(dezenas)\n",
    "    resultado = TotalDigitosok\n",
    "    return resultado"
   ]
  },
  {
   "cell_type": "markdown",
   "id": "cc91706d",
   "metadata": {},
   "source": [
    "## 5-  CalculaIntervaloDezena \n"
   ]
  },
  {
   "cell_type": "code",
   "execution_count": 120,
   "id": "1b440f19",
   "metadata": {},
   "outputs": [
    {
     "name": "stdout",
     "output_type": "stream",
     "text": [
      "time: 0 ns (started: 2023-09-07 13:52:52 -03:00)\n"
     ]
    }
   ],
   "source": [
    "def CalculaIntervaloDezena(dezenas):\n",
    "    cdcl = cd()\n",
    "    resultado = cdcl.CalculaIntervaloDezena(dezenas)\n",
    "    return resultado\n"
   ]
  },
  {
   "cell_type": "markdown",
   "id": "bce814cd",
   "metadata": {},
   "source": [
    "## 5- CalculaConsecutivos"
   ]
  },
  {
   "cell_type": "code",
   "execution_count": 121,
   "id": "4d624509",
   "metadata": {},
   "outputs": [
    {
     "name": "stdout",
     "output_type": "stream",
     "text": [
      "time: 0 ns (started: 2023-09-07 13:52:52 -03:00)\n"
     ]
    }
   ],
   "source": [
    "def CalculaConsecutivos(dezenas):\n",
    "    cdcl = cd()\n",
    "    resultado = cdcl.CalculaConsecutivos(dezenas)\n",
    "    return resultado"
   ]
  },
  {
   "cell_type": "markdown",
   "id": "88dbce92",
   "metadata": {},
   "source": [
    "## 6- calculaColunas"
   ]
  },
  {
   "cell_type": "code",
   "execution_count": 122,
   "id": "06d7ec87",
   "metadata": {},
   "outputs": [
    {
     "name": "stdout",
     "output_type": "stream",
     "text": [
      "time: 0 ns (started: 2023-09-07 13:52:54 -03:00)\n"
     ]
    }
   ],
   "source": [
    "# calculaColunas\n",
    "def calculaColunas(dezenas):\n",
    "    cdcl = cd()\n",
    "    resultado = cdcl.calculaColunas(dezenas)\n",
    "    return resultado"
   ]
  },
  {
   "cell_type": "markdown",
   "id": "f132ec87",
   "metadata": {},
   "source": [
    "## 7- CalculaLinhas"
   ]
  },
  {
   "cell_type": "code",
   "execution_count": 123,
   "id": "0bd3d9d9",
   "metadata": {},
   "outputs": [
    {
     "name": "stdout",
     "output_type": "stream",
     "text": [
      "time: 16 ms (started: 2023-09-07 13:52:54 -03:00)\n"
     ]
    }
   ],
   "source": [
    "# CalculaLinhas\n",
    "def CalculaLinhas(dezenas):\n",
    "    cdcl = cd()\n",
    "    resultado = cdcl.CalculaLinhas(dezenas)\n",
    "    return resultado"
   ]
  },
  {
   "cell_type": "markdown",
   "id": "37e11299",
   "metadata": {},
   "source": [
    "## 8 - CalculaQuadraticos"
   ]
  },
  {
   "cell_type": "code",
   "execution_count": 124,
   "id": "4f3410ba",
   "metadata": {},
   "outputs": [
    {
     "name": "stdout",
     "output_type": "stream",
     "text": [
      "time: 0 ns (started: 2023-09-07 13:52:55 -03:00)\n"
     ]
    }
   ],
   "source": [
    "# CalculaQuadraticos\n",
    "def CalculaQuadraticos(dezenas):\n",
    "    cdcl = cd()\n",
    "    resultado = cdcl.CalculaQuadraticos(dezenas)\n",
    "    return resultado"
   ]
  },
  {
   "cell_type": "markdown",
   "id": "f769450b",
   "metadata": {},
   "source": [
    "## 9 - CalculaMultiplos"
   ]
  },
  {
   "cell_type": "code",
   "execution_count": 125,
   "id": "e074069a",
   "metadata": {},
   "outputs": [
    {
     "name": "stdout",
     "output_type": "stream",
     "text": [
      "time: 0 ns (started: 2023-09-07 13:52:56 -03:00)\n"
     ]
    }
   ],
   "source": [
    "# CalculaMultiplos\n",
    "def CalculaMultiplos(dezenas):\n",
    "    cdcl = cd()\n",
    "    resultado = cdcl.CalculaMultiplos(dezenas)\n",
    "    return resultado"
   ]
  },
  {
   "cell_type": "markdown",
   "id": "341bfbc1",
   "metadata": {},
   "source": [
    "## 10 - ContaPrimos"
   ]
  },
  {
   "cell_type": "code",
   "execution_count": 126,
   "id": "356f9135",
   "metadata": {},
   "outputs": [
    {
     "name": "stdout",
     "output_type": "stream",
     "text": [
      "time: 0 ns (started: 2023-09-07 13:52:57 -03:00)\n"
     ]
    }
   ],
   "source": [
    "# ContaPrimos\n",
    "def ContaPrimos(dezenas):\n",
    "    cdcl = cd()\n",
    "    resultado = cdcl.ContaPrimos(dezenas)\n",
    "    return resultado"
   ]
  },
  {
   "cell_type": "markdown",
   "id": "785b8e24",
   "metadata": {},
   "source": [
    "## 11 - ValidaDezenaNoQuadrante"
   ]
  },
  {
   "cell_type": "code",
   "execution_count": 127,
   "id": "58ec01d0",
   "metadata": {},
   "outputs": [
    {
     "name": "stdout",
     "output_type": "stream",
     "text": [
      "time: 0 ns (started: 2023-09-07 13:52:57 -03:00)\n"
     ]
    }
   ],
   "source": [
    "# ValidaDezenaNoQuadrante\n",
    "def ValidaDezenaNoQuadrante(dezenas):\n",
    "    cdcl = cd()\n",
    "    resultado = cdcl.ValidaDezenaNoQuadrante(dezenas)\n",
    "    return resultado"
   ]
  },
  {
   "cell_type": "markdown",
   "id": "9235fde6",
   "metadata": {},
   "source": [
    "## 12 - ValidaFibonacci"
   ]
  },
  {
   "cell_type": "code",
   "execution_count": 128,
   "id": "e60303d8",
   "metadata": {},
   "outputs": [
    {
     "name": "stdout",
     "output_type": "stream",
     "text": [
      "time: 0 ns (started: 2023-09-07 13:52:58 -03:00)\n"
     ]
    }
   ],
   "source": [
    "# ValidaFibonacci\n",
    "def ValidaFibonacci(dezenas):\n",
    "    cdcl = cd()\n",
    "    resultado = cdcl.ValidaFibonacci(dezenas)\n",
    "    return resultado"
   ]
  },
  {
   "cell_type": "markdown",
   "id": "6ce6499c",
   "metadata": {},
   "source": [
    "## Criando as colunas calculadas"
   ]
  },
  {
   "cell_type": "code",
   "execution_count": 129,
   "id": "2b633149",
   "metadata": {},
   "outputs": [
    {
     "name": "stdout",
     "output_type": "stream",
     "text": [
      "time: 734 ms (started: 2023-09-07 13:53:00 -03:00)\n"
     ]
    }
   ],
   "source": [
    "# CalculaParImparSomaDez\n",
    "df['parimparsomacalc'] = df.apply(lambda x:CalculaParImparSomaDez(x['dezenas'],), axis = 1)\n",
    "df['razaoPA'] = df.apply(lambda x:CalculaPA(x['dezenas'],), axis = 1)\n",
    "df['SomaDigitosDezenas'] = df.apply(lambda x:SomaDigitosDezenas(x['dezenas'],), axis = 1)\n",
    "df['dezenasespelho'] = df.apply(lambda x:CalculaParImparSomaDez(x['dezenas'],), axis = 1)\n",
    "df['SomaDigitosDezenas'] = df.apply(lambda x:SomaDigitosDezenas(x['dezenas'],), axis = 1)\n",
    "df['SomaDigitosDezenasOk'] = df.apply(lambda x:SomaDigitosDezenasOk(x['dezenas'],), axis = 1)\n",
    "df['TotalDigitos'] = df.apply(lambda x:CalculaPresencaDigitos_TotalDigitos(x['dezenas'],), axis = 1)\n",
    "df['TotalDigitosok'] = df.apply(lambda x:CalculaPresencaDigitos_TotalDigitosok(x['dezenas'],), axis = 1)\n",
    "df['CalculaIntervaloDezena_valor'] = df.apply(lambda x:CalculaIntervaloDezena(x['dezenas'],), axis = 1)\n",
    "df['totConsecutivos_valor'] = df.apply(lambda x:CalculaConsecutivos(x['dezenas'],), axis = 1)\n",
    "df['TotalColunas_valor'] = df.apply(lambda x:calculaColunas(x['dezenas'],), axis = 1)\n",
    "df['TotalLinhas_valor'] = df.apply(lambda x:CalculaLinhas(x['dezenas'],), axis = 1)\n",
    "df['TotNumquadraticos_valor'] = df.apply(lambda x:CalculaQuadraticos(x['dezenas'],), axis = 1)\n",
    "df['CalculaMultiplosok'] = df.apply(lambda x:CalculaMultiplos(x['dezenas'],), axis = 1)\n",
    "df['totPrimos_valor'] = df.apply(lambda x:ContaPrimos(x['dezenas'],), axis = 1)\n",
    "df['DezenaNoQuadrante'] = df.apply(lambda x:ValidaDezenaNoQuadrante(x['dezenas'],), axis = 1)\n",
    "df['totFibo_valor'] = df.apply(lambda x:ValidaFibonacci(x['dezenas'],), axis = 1)"
   ]
  },
  {
   "cell_type": "code",
   "execution_count": 130,
   "id": "4ab7acd8",
   "metadata": {},
   "outputs": [
    {
     "name": "stdout",
     "output_type": "stream",
     "text": [
      "time: 156 ms (started: 2023-09-07 13:53:01 -03:00)\n"
     ]
    }
   ],
   "source": [
    "df['impares'] = df.apply(lambda x:x['parimparsomacalc']['impares'], axis = 1)\n",
    "df['imparesok'] = df.apply(lambda x:x['parimparsomacalc']['imparesok'], axis = 1)\n",
    "df['pares'] = df.apply(lambda x:x['parimparsomacalc']['pares'], axis = 1)\n",
    "df['paresok'] = df.apply(lambda x:x['parimparsomacalc']['paresok'], axis = 1)\n",
    "df['SomaDezenas'] = df.apply(lambda x:x['parimparsomacalc']['SomaDezenas'], axis = 1)\n",
    "df['somadasdezenasOk'] = df.apply(lambda x:x['parimparsomacalc']['somadasdezenasOk'], axis = 1)"
   ]
  },
  {
   "cell_type": "code",
   "execution_count": 146,
   "id": "55018b57",
   "metadata": {},
   "outputs": [
    {
     "name": "stdout",
     "output_type": "stream",
     "text": [
      "time: 0 ns (started: 2023-09-07 14:08:02 -03:00)\n"
     ]
    }
   ],
   "source": [
    "percent_dez_ini = [i for i in round( ((df.Dez01.value_counts() / df.Dez01.value_counts().sum()).cumsum()) * 100,2) if i <= 80]"
   ]
  },
  {
   "cell_type": "code",
   "execution_count": 153,
   "id": "745f2851",
   "metadata": {},
   "outputs": [
    {
     "name": "stdout",
     "output_type": "stream",
     "text": [
      "time: 0 ns (started: 2023-09-07 14:13:36 -03:00)\n"
     ]
    }
   ],
   "source": [
    "percent_dez_ini = lambda x:((df.Dez01.value_counts() / df.Dez01.value_counts().sum()).cumsum())"
   ]
  },
  {
   "cell_type": "code",
   "execution_count": 154,
   "id": "8d59d1ef",
   "metadata": {},
   "outputs": [
    {
     "data": {
      "text/plain": [
       "<function __main__.<lambda>(x)>"
      ]
     },
     "execution_count": 154,
     "metadata": {},
     "output_type": "execute_result"
    },
    {
     "name": "stdout",
     "output_type": "stream",
     "text": [
      "time: 0 ns (started: 2023-09-07 14:13:46 -03:00)\n"
     ]
    }
   ],
   "source": [
    "percent_dez_ini"
   ]
  },
  {
   "cell_type": "code",
   "execution_count": 152,
   "id": "31844393",
   "metadata": {},
   "outputs": [
    {
     "data": {
      "text/plain": [
       "Int64Index([ 1,  2,  4,  3,  5,  7,  6,  8, 10,  9, 11, 12, 13, 14, 15, 17, 16,\n",
       "            20, 18, 19, 23, 22, 21, 25, 24, 26, 28, 29, 27, 31, 30, 33, 35, 32,\n",
       "            34, 41, 39, 46, 36, 43, 38, 50, 37],\n",
       "           dtype='int64')"
      ]
     },
     "execution_count": 152,
     "metadata": {},
     "output_type": "execute_result"
    },
    {
     "name": "stdout",
     "output_type": "stream",
     "text": [
      "time: 0 ns (started: 2023-09-07 14:11:13 -03:00)\n"
     ]
    }
   ],
   "source": [
    "((df.Dez01.value_counts() / df.Dez01.value_counts().sum()).cumsum()).index"
   ]
  },
  {
   "cell_type": "code",
   "execution_count": 148,
   "id": "73a20342",
   "metadata": {},
   "outputs": [
    {
     "data": {
      "text/plain": [
       "Series([], Name: Dez01, dtype: int64)"
      ]
     },
     "execution_count": 148,
     "metadata": {},
     "output_type": "execute_result"
    },
    {
     "name": "stdout",
     "output_type": "stream",
     "text": [
      "time: 16 ms (started: 2023-09-07 14:09:30 -03:00)\n"
     ]
    }
   ],
   "source": [
    "df.Dez01.loc[\n",
    "    (df.Dez01.isin(percent_dez_ini))\n",
    "]"
   ]
  },
  {
   "cell_type": "code",
   "execution_count": 92,
   "id": "f1f9415f",
   "metadata": {},
   "outputs": [
    {
     "name": "stdout",
     "output_type": "stream",
     "text": [
      "time: 0 ns (started: 2023-09-07 13:51:26 -03:00)\n"
     ]
    }
   ],
   "source": [
    "def ret_IntervaloDezena(dezenas):\n",
    "    sorted(dezenas)\n",
    "    valor1 = dezenas[0]\n",
    "    valor2 = dezenas[5]\n",
    "    return (valor1,valor2)\n",
    "    "
   ]
  },
  {
   "cell_type": "code",
   "execution_count": 94,
   "id": "46e4e74d",
   "metadata": {},
   "outputs": [
    {
     "name": "stdout",
     "output_type": "stream",
     "text": [
      "time: 0 ns (started: 2023-09-07 13:51:28 -03:00)\n"
     ]
    }
   ],
   "source": [
    "df['totConsecutivos'] = df['totConsecutivos_valor'].apply(lambda x: x[0] if len(x)==2 else x)\n",
    "df['totConsecutivosok'] = df['totConsecutivos_valor'].apply(lambda x: x[1] if len(x)==2 else x)\n"
   ]
  },
  {
   "cell_type": "code",
   "execution_count": 95,
   "id": "3bc91166",
   "metadata": {},
   "outputs": [
    {
     "name": "stdout",
     "output_type": "stream",
     "text": [
      "time: 16 ms (started: 2023-09-07 13:51:28 -03:00)\n"
     ]
    }
   ],
   "source": [
    "df['TotalColunas'] = df['TotalColunas_valor'].apply(lambda x: x[0] if len(x)==2 else x)\n",
    "df['TotalColunasok'] = df['TotalColunas_valor'].apply(lambda x: x[0] if len(x)==2 else x)\n",
    "\n"
   ]
  },
  {
   "cell_type": "code",
   "execution_count": 96,
   "id": "5ef37137",
   "metadata": {},
   "outputs": [
    {
     "name": "stdout",
     "output_type": "stream",
     "text": [
      "time: 0 ns (started: 2023-09-07 13:51:29 -03:00)\n"
     ]
    }
   ],
   "source": [
    "df['TotalLinhas'] = df['TotalLinhas_valor'].apply(lambda x: x[0] if len(x)==2 else x)\n",
    "df['TotalLinhasok'] = df['TotalLinhas_valor'].apply(lambda x: x[1] if len(x)==2 else x)\n"
   ]
  },
  {
   "cell_type": "code",
   "execution_count": 97,
   "id": "74f701f1",
   "metadata": {},
   "outputs": [
    {
     "name": "stdout",
     "output_type": "stream",
     "text": [
      "time: 0 ns (started: 2023-09-07 13:51:31 -03:00)\n"
     ]
    }
   ],
   "source": [
    "df['TotNumquadraticos'] = df['TotNumquadraticos_valor'].apply(lambda x: x[0] if len(x)==2 else x)\n",
    "df['TotNumquadraticos'] = df['TotNumquadraticos_valor'].apply(lambda x: x[1] if len(x)==2 else x)"
   ]
  },
  {
   "cell_type": "code",
   "execution_count": 98,
   "id": "bec6f712",
   "metadata": {},
   "outputs": [
    {
     "name": "stdout",
     "output_type": "stream",
     "text": [
      "time: 0 ns (started: 2023-09-07 13:51:32 -03:00)\n"
     ]
    }
   ],
   "source": [
    "df['totPrimos'] = df['totPrimos_valor'].apply(lambda x: x[0] if len(x)==2 else x)\n",
    "df['totPrimosok'] = df['totPrimos_valor'].apply(lambda x: x[1] if len(x)==2 else x)"
   ]
  },
  {
   "cell_type": "code",
   "execution_count": 99,
   "id": "f278ff99",
   "metadata": {},
   "outputs": [
    {
     "name": "stdout",
     "output_type": "stream",
     "text": [
      "time: 16 ms (started: 2023-09-07 13:51:32 -03:00)\n"
     ]
    }
   ],
   "source": [
    "df['totFibo'] = df['totFibo_valor'].apply(lambda x: x[0] if len(x)==2 else x)\n",
    "df['totFibook'] = df['totFibo_valor'].apply(lambda x: x[1] if len(x)==2 else x)"
   ]
  },
  {
   "cell_type": "code",
   "execution_count": 100,
   "id": "73ab6949",
   "metadata": {},
   "outputs": [
    {
     "name": "stdout",
     "output_type": "stream",
     "text": [
      "time: 0 ns (started: 2023-09-07 13:51:32 -03:00)\n"
     ]
    }
   ],
   "source": [
    "df['DezenaNoQuadranteok'] = df['DezenaNoQuadrante'].apply(lambda x:x[4])"
   ]
  },
  {
   "cell_type": "code",
   "execution_count": null,
   "id": "02b6f4f7",
   "metadata": {},
   "outputs": [],
   "source": [
    "# df['IntervaloDezena'] = df.apply(lambda x:ret_IntervaloDezena(x['dezenas'],), axis = 1)"
   ]
  },
  {
   "cell_type": "code",
   "execution_count": 133,
   "id": "0359580b",
   "metadata": {},
   "outputs": [
    {
     "data": {
      "text/html": [
       "<div>\n",
       "<style scoped>\n",
       "    .dataframe tbody tr th:only-of-type {\n",
       "        vertical-align: middle;\n",
       "    }\n",
       "\n",
       "    .dataframe tbody tr th {\n",
       "        vertical-align: top;\n",
       "    }\n",
       "\n",
       "    .dataframe thead th {\n",
       "        text-align: right;\n",
       "    }\n",
       "</style>\n",
       "<table border=\"1\" class=\"dataframe\">\n",
       "  <thead>\n",
       "    <tr style=\"text-align: right;\">\n",
       "      <th></th>\n",
       "      <th>CalculaIntervaloDezena_valor</th>\n",
       "    </tr>\n",
       "  </thead>\n",
       "  <tbody>\n",
       "    <tr>\n",
       "      <th>0</th>\n",
       "      <td>True</td>\n",
       "    </tr>\n",
       "    <tr>\n",
       "      <th>1</th>\n",
       "      <td>False</td>\n",
       "    </tr>\n",
       "    <tr>\n",
       "      <th>2</th>\n",
       "      <td>True</td>\n",
       "    </tr>\n",
       "    <tr>\n",
       "      <th>3</th>\n",
       "      <td>True</td>\n",
       "    </tr>\n",
       "    <tr>\n",
       "      <th>4</th>\n",
       "      <td>False</td>\n",
       "    </tr>\n",
       "    <tr>\n",
       "      <th>...</th>\n",
       "      <td>...</td>\n",
       "    </tr>\n",
       "    <tr>\n",
       "      <th>2611</th>\n",
       "      <td>True</td>\n",
       "    </tr>\n",
       "    <tr>\n",
       "      <th>2612</th>\n",
       "      <td>True</td>\n",
       "    </tr>\n",
       "    <tr>\n",
       "      <th>2613</th>\n",
       "      <td>False</td>\n",
       "    </tr>\n",
       "    <tr>\n",
       "      <th>2614</th>\n",
       "      <td>True</td>\n",
       "    </tr>\n",
       "    <tr>\n",
       "      <th>2615</th>\n",
       "      <td>True</td>\n",
       "    </tr>\n",
       "  </tbody>\n",
       "</table>\n",
       "<p>2616 rows × 1 columns</p>\n",
       "</div>"
      ],
      "text/plain": [
       "      CalculaIntervaloDezena_valor\n",
       "0                             True\n",
       "1                            False\n",
       "2                             True\n",
       "3                             True\n",
       "4                            False\n",
       "...                            ...\n",
       "2611                          True\n",
       "2612                          True\n",
       "2613                         False\n",
       "2614                          True\n",
       "2615                          True\n",
       "\n",
       "[2616 rows x 1 columns]"
      ]
     },
     "execution_count": 133,
     "metadata": {},
     "output_type": "execute_result"
    },
    {
     "name": "stdout",
     "output_type": "stream",
     "text": [
      "time: 0 ns (started: 2023-09-07 13:54:01 -03:00)\n"
     ]
    }
   ],
   "source": [
    "df[['CalculaIntervaloDezena_valor']]"
   ]
  },
  {
   "cell_type": "code",
   "execution_count": 132,
   "id": "3f3799b4",
   "metadata": {},
   "outputs": [
    {
     "data": {
      "text/plain": [
       "Index(['Concurso', 'Data Sorteio', 'Dez01', 'Dez02', 'Dez03', 'Dez04', 'Dez05',\n",
       "       'Dez06', 'Ganhadores Faixa 1', 'Cidade', 'Rateio Faixa 1',\n",
       "       'Ganhadores Faixa 2', 'Rateio Faixa 2', 'Ganhadores Faixa 3',\n",
       "       'Rateio Faixa 3', 'Valor Acumulado Próximo Concurso',\n",
       "       'Valor Arrecadado', 'Estimativa para o próximo concurso',\n",
       "       'Sorteio Especial', 'Observação', 'dezenas', 'parimparsomacalc',\n",
       "       'razaoPA', 'SomaDigitosDezenas', 'dezenasespelho',\n",
       "       'SomaDigitosDezenasOk', 'TotalDigitos', 'TotalDigitosok',\n",
       "       'CalculaIntervaloDezena_valor', 'totConsecutivos_valor',\n",
       "       'TotalColunas_valor', 'TotalLinhas_valor', 'TotNumquadraticos_valor',\n",
       "       'CalculaMultiplosok', 'totPrimos_valor', 'DezenaNoQuadrante',\n",
       "       'totFibo_valor', 'impares', 'imparesok', 'pares', 'paresok',\n",
       "       'SomaDezenas', 'somadasdezenasOk'],\n",
       "      dtype='object')"
      ]
     },
     "execution_count": 132,
     "metadata": {},
     "output_type": "execute_result"
    },
    {
     "name": "stdout",
     "output_type": "stream",
     "text": [
      "time: 16 ms (started: 2023-09-07 13:53:42 -03:00)\n"
     ]
    }
   ],
   "source": [
    "df.columns"
   ]
  },
  {
   "cell_type": "markdown",
   "id": "12d8c426",
   "metadata": {},
   "source": [
    "# check"
   ]
  },
  {
   "cell_type": "code",
   "execution_count": null,
   "id": "b45b1e7e",
   "metadata": {},
   "outputs": [],
   "source": [
    "# parimparsomacalc"
   ]
  },
  {
   "cell_type": "code",
   "execution_count": null,
   "id": "a1bfb81d",
   "metadata": {},
   "outputs": [],
   "source": [
    "# df.razaoPA.value_counts()"
   ]
  },
  {
   "cell_type": "code",
   "execution_count": null,
   "id": "d3bd0f42",
   "metadata": {},
   "outputs": [],
   "source": [
    "df.SomaDigitosDezenasOk.value_counts()"
   ]
  },
  {
   "cell_type": "code",
   "execution_count": null,
   "id": "75b1c9ba",
   "metadata": {},
   "outputs": [],
   "source": [
    "df.TotalDigitos.value_counts()"
   ]
  },
  {
   "cell_type": "code",
   "execution_count": null,
   "id": "a1c15fa1",
   "metadata": {},
   "outputs": [],
   "source": [
    "df.TotalDigitosok.value_counts()"
   ]
  },
  {
   "cell_type": "code",
   "execution_count": null,
   "id": "a85731f5",
   "metadata": {},
   "outputs": [],
   "source": [
    "df.CalculaIntervaloDezenaok.value_counts()"
   ]
  },
  {
   "cell_type": "code",
   "execution_count": null,
   "id": "a07434a3",
   "metadata": {},
   "outputs": [],
   "source": [
    "# IntervaloDezena\n",
    "df.IntervaloDezena.value_counts()"
   ]
  },
  {
   "cell_type": "code",
   "execution_count": null,
   "id": "da22676b",
   "metadata": {},
   "outputs": [],
   "source": [
    "def intervalodezenaOK(d1,d2):\n",
    "    if d1 in [ 1,  5,  3,  2,  4,  6, 10,  7,  8,  9, 12, 11, 13, 14, 18, 16, 15, 20, 17, 19]:\n",
    "        if d2 in [60, 59, 58, 54, 57, 56, 53, 55, 51, 49, 52, 50, 48, 44, 47, 45, 41,43, 42, 46]:\n",
    "            return True\n",
    "# df['intervaloddezenaok'] = df.apply(lambda x: intervalodezenaOK(x['IntervaloDezena'][0],x['IntervaloDezena'][1]),axis=1 )\n",
    "        "
   ]
  },
  {
   "cell_type": "code",
   "execution_count": null,
   "id": "2fedcd0f",
   "metadata": {},
   "outputs": [],
   "source": [
    "df['intervaloddezenaok'] = df.apply(lambda x: intervalodezenaOK(x['IntervaloDezena'][0],x['IntervaloDezena'][1]),axis=1 )\n"
   ]
  },
  {
   "cell_type": "code",
   "execution_count": null,
   "id": "96dd8b17",
   "metadata": {},
   "outputs": [],
   "source": [
    "# intervalo_dezena = pd.DataFrame(df.IntervaloDezena.value_counts()).reset_index()\n",
    "# intervalo_dezena['d01'] = intervalo_dezena.apply(lambda x: x['index'][0],axis=1 )\n",
    "# intervalo_dezena['d02'] = intervalo_dezena.apply(lambda x: x['index'][1],axis=1 )\n",
    "# intervalo_dezena['percent'] = (intervalo_dezena['IntervaloDezena']/intervalo_dezena['IntervaloDezena'].sum())\n",
    "# print((intervalo_dezena.d01.value_counts()/intervalo_dezena.d01.value_counts().sum())*100)\n",
    "# (intervalo_dezena.d01.value_counts()/intervalo_dezena.d01.value_counts().sum().cumsum()) \n",
    "\n",
    "# intervalo_dezena"
   ]
  },
  {
   "cell_type": "code",
   "execution_count": null,
   "id": "bc2cd731",
   "metadata": {},
   "outputs": [],
   "source": [
    "print( (intervalo_dezena.d01.value_counts()/intervalo_dezena.d01.value_counts().sum()).cumsum().index )\n",
    "dezini = sorted([ 1,  5,  3,  2,  4,  6, 10,  7,  8,  9, 12, 11, 13, 14, 18, 16, 15,\n",
    "            20, 17, 19] )\n",
    "dezini"
   ]
  },
  {
   "cell_type": "code",
   "execution_count": null,
   "id": "dd81f569",
   "metadata": {},
   "outputs": [],
   "source": [
    "print( (intervalo_dezena.d02.value_counts()/intervalo_dezena.d02.value_counts().sum()).cumsum().index )\n",
    "dezfim = sorted([60, 59, 58, 54, 57, 56, 53, 55, 51, 49, 52, 50, 48, 44, 47, 45, 41,\n",
    "            43, 42, 46] )\n",
    "dezfim"
   ]
  },
  {
   "cell_type": "code",
   "execution_count": null,
   "id": "4f286d20",
   "metadata": {},
   "outputs": [],
   "source": []
  },
  {
   "cell_type": "code",
   "execution_count": null,
   "id": "29005e0f",
   "metadata": {},
   "outputs": [],
   "source": [
    "df.totConsecutivos.value_counts()"
   ]
  },
  {
   "cell_type": "code",
   "execution_count": null,
   "id": "8c9a5a56",
   "metadata": {},
   "outputs": [],
   "source": [
    "# totConsecutivosok\n",
    "df.totConsecutivosok.value_counts()"
   ]
  },
  {
   "cell_type": "code",
   "execution_count": null,
   "id": "69b8e380",
   "metadata": {},
   "outputs": [],
   "source": [
    "df.TotalColunasok.value_counts()"
   ]
  },
  {
   "cell_type": "code",
   "execution_count": null,
   "id": "631db4d5",
   "metadata": {},
   "outputs": [],
   "source": [
    "df.TotalLinhasok.value_counts()"
   ]
  },
  {
   "cell_type": "code",
   "execution_count": null,
   "id": "b502f49d",
   "metadata": {},
   "outputs": [],
   "source": [
    "\n",
    "df.TotNumquadraticosok.value_counts()"
   ]
  },
  {
   "cell_type": "code",
   "execution_count": null,
   "id": "2e6b57a4",
   "metadata": {},
   "outputs": [],
   "source": [
    "\n",
    "df.totPrimosok.value_counts()"
   ]
  },
  {
   "cell_type": "code",
   "execution_count": null,
   "id": "953742c3",
   "metadata": {},
   "outputs": [],
   "source": [
    "\n",
    "df.DezenaNoQuadranteok.value_counts()"
   ]
  },
  {
   "cell_type": "code",
   "execution_count": null,
   "id": "a599ed22",
   "metadata": {},
   "outputs": [],
   "source": [
    "\n",
    "df.totFibook.value_counts()"
   ]
  },
  {
   "cell_type": "markdown",
   "id": "0edc31b4",
   "metadata": {},
   "source": [
    "# Gera analise de todas as possíveis apostas, seus ternos e quadras mais sorteados"
   ]
  },
  {
   "cell_type": "markdown",
   "id": "75a6b67e",
   "metadata": {},
   "source": [
    "## Analise antiga - Não funcionou. \n",
    "As apostas dentro dos arquivos ficaram fora da sequencia.\n",
    "\n",
    "Assim não consigo saber qual das combinações possiui mias ternos sorteados"
   ]
  },
  {
   "cell_type": "code",
   "execution_count": null,
   "id": "cb5c4794",
   "metadata": {},
   "outputs": [],
   "source": [
    "def GeraCombinacoes(dezenasSorteios, numDezenas):\n",
    "    # yield list(itertools.combinations(dezenasSorteios, numDezenas))\n",
    "    return itertools.combinations(dezenasSorteios, numDezenas)"
   ]
  },
  {
   "cell_type": "code",
   "execution_count": null,
   "id": "9d2945b2",
   "metadata": {},
   "outputs": [],
   "source": [
    "df.dezenas\n"
   ]
  },
  {
   "cell_type": "code",
   "execution_count": null,
   "id": "dd82f6d8",
   "metadata": {},
   "outputs": [],
   "source": [
    "lista_ternos = []\n",
    "for i in df.itertuples():\n",
    "    dezenas = getattr(i, \"dezenas\")\n",
    "    for comb in GeraCombinacoes(dezenas,3):\n",
    "        d = list(comb)\n",
    "        d.sort()\n",
    "        lista_ternos.append(d)"
   ]
  },
  {
   "cell_type": "code",
   "execution_count": null,
   "id": "418221f2",
   "metadata": {},
   "outputs": [],
   "source": [
    "lista_quadras = []\n",
    "for i in df.itertuples():\n",
    "    dezenas = getattr(i, \"dezenas\")\n",
    "    for comb in GeraCombinacoes(dezenas,4):\n",
    "        d = list(comb)\n",
    "        d.sort()\n",
    "        lista_quadras.append(d)"
   ]
  },
  {
   "cell_type": "code",
   "execution_count": null,
   "id": "5e4510d0",
   "metadata": {},
   "outputs": [],
   "source": [
    "lista_quinas = []\n",
    "for i in df.itertuples():\n",
    "    dezenas = getattr(i, \"dezenas\")\n",
    "    for comb in GeraCombinacoes(dezenas,5):\n",
    "        d = list(comb)\n",
    "        d.sort()\n",
    "        lista_quinas.append(d)"
   ]
  },
  {
   "cell_type": "code",
   "execution_count": null,
   "id": "de7c1044",
   "metadata": {},
   "outputs": [],
   "source": [
    "print(len(lista_ternos))\n",
    "print(len(lista_quadras))\n",
    "print(len(lista_quinas))"
   ]
  },
  {
   "cell_type": "code",
   "execution_count": null,
   "id": "4342d890",
   "metadata": {},
   "outputs": [],
   "source": [
    "df.loc[2614:]"
   ]
  },
  {
   "cell_type": "code",
   "execution_count": null,
   "id": "fee3d743",
   "metadata": {},
   "outputs": [],
   "source": [
    "def conta_ternos(dezenas):\n",
    "    qtde_ternos = 0\n",
    "    for terno in lista_ternos:\n",
    "        qtde = len(list(set(terno) & set(dezenas))) # Encontra os iguais\n",
    "        if qtde == 3:\n",
    "            qtde_ternos += 1\n",
    "    return qtde_ternos"
   ]
  },
  {
   "cell_type": "code",
   "execution_count": null,
   "id": "13421710",
   "metadata": {},
   "outputs": [],
   "source": [
    "def conta_quadras(dezenas):\n",
    "    qtde_quadras = 0\n",
    "    for terno in lista_quadras:\n",
    "        qtde = len(list(set(terno) & set(dezenas))) # Encontra os iguais\n",
    "        if qtde == 4:\n",
    "            qtde_quadras += 1\n",
    "    return qtde_quadras"
   ]
  },
  {
   "cell_type": "code",
   "execution_count": null,
   "id": "db243e56",
   "metadata": {},
   "outputs": [],
   "source": [
    "def conta_quinas(dezenas):\n",
    "    qtde_quinas = 0\n",
    "    for terno in lista_quinas:\n",
    "        qtde = len(list(set(terno) & set(dezenas))) # Encontra os iguais\n",
    "        if qtde == 5:\n",
    "            qtde_quinas += 1\n",
    "    return qtde_quinas"
   ]
  },
  {
   "cell_type": "code",
   "execution_count": null,
   "id": "c988a407",
   "metadata": {},
   "outputs": [],
   "source": [
    "df['ternos'] = df.apply(lambda x:conta_ternos(x['dezenas'],), axis = 1)\n",
    "# time: 1min 48s"
   ]
  },
  {
   "cell_type": "code",
   "execution_count": null,
   "id": "5975b832",
   "metadata": {},
   "outputs": [],
   "source": [
    "df['quadras'] = df.apply(lambda x:conta_quadras(x['dezenas'],), axis = 1)\n",
    "# time: 1min 23s"
   ]
  },
  {
   "cell_type": "code",
   "execution_count": null,
   "id": "19593773",
   "metadata": {},
   "outputs": [],
   "source": [
    "df['quinas'] = df.apply(lambda x:conta_quinas(x['dezenas'],), axis = 1)\n",
    "# time: 41.8 s"
   ]
  },
  {
   "cell_type": "code",
   "execution_count": null,
   "id": "d4df5f08",
   "metadata": {},
   "outputs": [],
   "source": [
    "df.sample(2)"
   ]
  },
  {
   "cell_type": "code",
   "execution_count": null,
   "id": "7feba74c",
   "metadata": {},
   "outputs": [],
   "source": [
    "df.quadras.value_counts()"
   ]
  },
  {
   "cell_type": "code",
   "execution_count": null,
   "id": "bb81f273",
   "metadata": {},
   "outputs": [],
   "source": [
    "df.ternos.value_counts().quantile([0.05, 0.25, 0.50, 0.75, 0.95])"
   ]
  },
  {
   "cell_type": "code",
   "execution_count": null,
   "id": "4fa7ea10",
   "metadata": {},
   "outputs": [],
   "source": [
    "ternos_df = pd.DataFrame(df.ternos.value_counts())"
   ]
  },
  {
   "cell_type": "code",
   "execution_count": null,
   "id": "d4d5ec08",
   "metadata": {},
   "outputs": [],
   "source": [
    "# ternos_df['pareto'] = ternos_df['ternos']/ternos_df['ternos'].sum()\n",
    "# ternos_df['perc_sum'] = (ternos_df['pareto'].cumsum()/ternos_df['pareto'].sum())*100\n",
    "\n",
    "# ternos_df.columns = ['apostas','pareto','perc_sum']\n",
    "# ternos_df.reset_index(inplace=True)\n",
    "ternos_df.columns = ['qtde_vezes_terno','apostas','pareto','perc_sum']\n",
    "ternos_df"
   ]
  },
  {
   "cell_type": "code",
   "execution_count": null,
   "id": "8e7992e8",
   "metadata": {},
   "outputs": [],
   "source": [
    "sorted(ternos_df.loc[\n",
    "    ternos_df.perc_sum <= 81\n",
    "].qtde_vezes_terno.values)"
   ]
  },
  {
   "cell_type": "code",
   "execution_count": null,
   "id": "e23f5dc3",
   "metadata": {},
   "outputs": [],
   "source": [
    "pareto = [42, 43, 44, 45, 46, 47, 48, 49, 50, 51, 52, 53, 54, 55, 56, 57, 58]"
   ]
  },
  {
   "cell_type": "markdown",
   "id": "026734e2",
   "metadata": {},
   "source": [
    "# Analisa as combinações e os ternos"
   ]
  },
  {
   "cell_type": "code",
   "execution_count": null,
   "id": "891121a9",
   "metadata": {},
   "outputs": [],
   "source": [
    "import os\n"
   ]
  },
  {
   "cell_type": "code",
   "execution_count": null,
   "id": "9d3302d7",
   "metadata": {},
   "outputs": [],
   "source": [
    "os.getcwd()"
   ]
  },
  {
   "cell_type": "code",
   "execution_count": null,
   "id": "a036dcf0",
   "metadata": {},
   "outputs": [],
   "source": [
    "path = r'E:\\Arquivos\\devops\\melhor-aposta-ms-final\\multi_proc_final_2023\\resultado_teste'"
   ]
  },
  {
   "cell_type": "code",
   "execution_count": null,
   "id": "b72bcc9e",
   "metadata": {},
   "outputs": [],
   "source": [
    "files = list(filter(os.path.isfile, glob.glob(path + \"\\*\")))\n",
    "  \n",
    "# Sorting file list based on the \n",
    "# creation time of the files\n",
    "files.sort(key=os.path.getctime)\n",
    "  \n",
    "# Displaying the sorted list\n",
    "list_df = []\n",
    "for file in files:\n",
    "    print(file)\n",
    "    filecsv_df = pd.read_csv(file)\n",
    "    print(len(filecsv_df))\n",
    "    list_df.append(filecsv_df)\n",
    "\n",
    "final_ternos_df = pd.concat(objs= [dfs for dfs in list_df], ignore_index=True)"
   ]
  },
  {
   "cell_type": "code",
   "execution_count": null,
   "id": "3278e25b",
   "metadata": {},
   "outputs": [],
   "source": [
    "df.index.names = ['Index']\n",
    "final_ternos_df.index.names = ['Index']\n",
    "final_ternos_df.columns = ['index_part','qtde_ternos']\n",
    "final_ternos_df = final_ternos_df[['qtde_ternos']]"
   ]
  },
  {
   "cell_type": "code",
   "execution_count": null,
   "id": "7066c754",
   "metadata": {},
   "outputs": [],
   "source": [
    "final_ternos_df"
   ]
  },
  {
   "cell_type": "code",
   "execution_count": null,
   "id": "73b04f7e",
   "metadata": {},
   "outputs": [],
   "source": [
    "final_ternos_df.reset_index(inplace=True)"
   ]
  },
  {
   "cell_type": "code",
   "execution_count": null,
   "id": "5e23eb68",
   "metadata": {},
   "outputs": [],
   "source": [
    "final_ternos_df"
   ]
  },
  {
   "cell_type": "code",
   "execution_count": null,
   "id": "b4659978",
   "metadata": {},
   "outputs": [],
   "source": [
    "final_ternos_gp_df = final_ternos_df.groupby('qtde_ternos').count().sort_values('qtde_ternos', ascending=False).reset_index()\n",
    "final_ternos_gp_df"
   ]
  },
  {
   "cell_type": "code",
   "execution_count": null,
   "id": "396bd13c",
   "metadata": {},
   "outputs": [],
   "source": [
    "final_ternos_gp_df['pareto'] = final_ternos_gp_df['qtde_ternos']/final_ternos_gp_df['qtde_ternos'].sum()\n",
    "final_ternos_gp_df['perc_sum'] = (final_ternos_gp_df['pareto'].cumsum()/final_ternos_gp_df['pareto'].sum())*100\n",
    "final_ternos_gp_df.columns = ['qtde_ternos','qtde_apostas_com','percent','pareto']\n",
    "final_ternos_gp_df"
   ]
  },
  {
   "cell_type": "code",
   "execution_count": null,
   "id": "28304c84",
   "metadata": {},
   "outputs": [],
   "source": [
    "numeros = list(range(1,61))\n",
    "combinacoes = itertools.combinations(numeros,6)"
   ]
  },
  {
   "cell_type": "code",
   "execution_count": null,
   "id": "83f655bb",
   "metadata": {},
   "outputs": [],
   "source": [
    "combinacoes"
   ]
  },
  {
   "cell_type": "code",
   "execution_count": null,
   "id": "84398e43",
   "metadata": {},
   "outputs": [],
   "source": [
    "combinacoes_s = pd.Series(combinacoes)"
   ]
  },
  {
   "cell_type": "code",
   "execution_count": null,
   "id": "6727b9bf",
   "metadata": {},
   "outputs": [],
   "source": [
    "# del ternos_grupo\n",
    "ternos_grupo = combinacoes_s[\n",
    "    list(final_ternos_df.loc[\n",
    "        final_ternos_df.qtde_ternos == 42\n",
    "    ].Index.values)    \n",
    "]"
   ]
  },
  {
   "cell_type": "code",
   "execution_count": null,
   "id": "93fbf8e7",
   "metadata": {},
   "outputs": [],
   "source": [
    "ternos_grupo"
   ]
  },
  {
   "cell_type": "code",
   "execution_count": null,
   "id": "d1357c15",
   "metadata": {},
   "outputs": [],
   "source": [
    "ternos_grupo_df = pd.DataFrame(ternos_grupo)\n",
    "ternos_grupo_df.columns = ['dezenas']\n",
    "ternos_grupo_df"
   ]
  },
  {
   "cell_type": "code",
   "execution_count": null,
   "id": "850b1839",
   "metadata": {},
   "outputs": [],
   "source": [
    "dezenas = [1, 5, 30, 46, 51, 59]"
   ]
  },
  {
   "cell_type": "code",
   "execution_count": null,
   "id": "7e90b568",
   "metadata": {},
   "outputs": [],
   "source": [
    "# ternos_grupo_df['ternos'] = ternos_grupo_df.apply(lambda x:conta_ternos(x['dezenas']), axis=1)"
   ]
  },
  {
   "cell_type": "code",
   "execution_count": null,
   "id": "4606bb7e",
   "metadata": {},
   "outputs": [],
   "source": [
    "conta_ternos(dezenas)"
   ]
  },
  {
   "cell_type": "code",
   "execution_count": null,
   "id": "0079c61a",
   "metadata": {},
   "outputs": [],
   "source": [
    "ternos_grupo_df = ternos_grupo_df.sample(2000)"
   ]
  },
  {
   "cell_type": "code",
   "execution_count": null,
   "id": "ec6e73e7",
   "metadata": {},
   "outputs": [],
   "source": [
    "# ternos_grupo_df.groupby('ternos').count().sort_values('ternos', ascending=False)"
   ]
  },
  {
   "cell_type": "code",
   "execution_count": null,
   "id": "1ae8d95b",
   "metadata": {},
   "outputs": [],
   "source": [
    "ternos_grupo_df"
   ]
  },
  {
   "cell_type": "code",
   "execution_count": null,
   "id": "52411066",
   "metadata": {},
   "outputs": [],
   "source": [
    "pareto"
   ]
  },
  {
   "cell_type": "code",
   "execution_count": null,
   "id": "509dc02f",
   "metadata": {},
   "outputs": [],
   "source": [
    "def conta_ternos_combinacoes(dezenas):\n",
    "    qtde_ternos = 0\n",
    "    for terno in lista_ternos:\n",
    "        qtde = len(list(set(terno) & set(dezenas))) # Encontra os iguais\n",
    "        if qtde == 3:\n",
    "            qtde_ternos += 1\n",
    "    return qtde_ternos"
   ]
  },
  {
   "cell_type": "code",
   "execution_count": null,
   "id": "a3551d5d",
   "metadata": {},
   "outputs": [],
   "source": [
    "ternos_grupo_df['qtde_ternos'] = ternos_grupo_df.apply(lambda x:conta_ternos_combinacoes(x['dezenas']),axis=1)"
   ]
  },
  {
   "cell_type": "code",
   "execution_count": null,
   "id": "7c9be9f7",
   "metadata": {},
   "outputs": [],
   "source": [
    "temp_df = ternos_grupo_df.loc[\n",
    "    ternos_grupo_df.qtde_ternos.isin(pareto)\n",
    "]"
   ]
  },
  {
   "cell_type": "code",
   "execution_count": null,
   "id": "2d11b5e0",
   "metadata": {},
   "outputs": [],
   "source": [
    "temp_df"
   ]
  },
  {
   "cell_type": "code",
   "execution_count": null,
   "id": "2692967c",
   "metadata": {},
   "outputs": [],
   "source": [
    "def convert(val):\n",
    "    return list(val)"
   ]
  },
  {
   "cell_type": "code",
   "execution_count": null,
   "id": "d4365869",
   "metadata": {},
   "outputs": [],
   "source": [
    "temp_df['dezenas'] = temp_df.apply(lambda x:convert(x['dezenas']),axis=1)"
   ]
  },
  {
   "cell_type": "code",
   "execution_count": null,
   "id": "6e7d73b8",
   "metadata": {},
   "outputs": [],
   "source": [
    "temp_df"
   ]
  },
  {
   "cell_type": "code",
   "execution_count": null,
   "id": "4644e662",
   "metadata": {},
   "outputs": [],
   "source": []
  },
  {
   "cell_type": "code",
   "execution_count": null,
   "id": "04466278",
   "metadata": {},
   "outputs": [],
   "source": [
    "# CalculaParImparSomaDez\n",
    "temp_df['parimparsomacalc'] = temp_df.apply(lambda x:CalculaParImparSomaDez(x['dezenas'],), axis = 1)\n",
    "temp_df['razaoPA'] = temp_df.apply(lambda x:CalculaPA(x['dezenas'],), axis = 1)\n",
    "temp_df['SomaDigitosDezenas'] = temp_df.apply(lambda x:SomaDigitosDezenas(x['dezenas'],), axis = 1)\n",
    "temp_df['dezenasespelho'] = temp_df.apply(lambda x:CalculaParImparSomaDez(x['dezenas'],), axis = 1)\n",
    "temp_df['SomaDigitosDezenas'] = temp_df.apply(lambda x:SomaDigitosDezenas(x['dezenas'],), axis = 1)\n",
    "temp_df['SomaDigitosDezenasOk'] = temp_df.apply(lambda x:SomaDigitosDezenasOk(x['dezenas'],), axis = 1)\n",
    "temp_df['TotalDigitos'] = temp_df.apply(lambda x:CalculaPresencaDigitos_TotalDigitos(x['dezenas'],), axis = 1)\n",
    "temp_df['TotalDigitosok'] = temp_df.apply(lambda x:CalculaPresencaDigitos_TotalDigitosok(x['dezenas'],), axis = 1)\n",
    "temp_df['CalculaIntervaloDezenaok'] = temp_df.apply(lambda x:CalculaIntervaloDezena(x['dezenas'],), axis = 1)\n",
    "temp_df['totConsecutivos'] = temp_df.apply(lambda x:CalculaConsecutivos(x['dezenas'],), axis = 1)\n",
    "temp_df['TotalColunas'] = temp_df.apply(lambda x:calculaColunas(x['dezenas'],), axis = 1)\n",
    "temp_df['TotalLinhas'] = temp_df.apply(lambda x:CalculaLinhas(x['dezenas'],), axis = 1)\n",
    "temp_df['TotNumquadraticos'] = temp_df.apply(lambda x:CalculaQuadraticos(x['dezenas'],), axis = 1)\n",
    "temp_df['CalculaMultiplosok'] = temp_df.apply(lambda x:CalculaMultiplos(x['dezenas'],), axis = 1)\n",
    "temp_df['totPrimos'] = temp_df.apply(lambda x:ContaPrimos(x['dezenas'],), axis = 1)\n",
    "temp_df['DezenaNoQuadrante'] = temp_df.apply(lambda x:ValidaDezenaNoQuadrante(x['dezenas'],), axis = 1)\n",
    "temp_df['totFibo'] = temp_df.apply(lambda x:ValidaFibonacci(x['dezenas'],), axis = 1)"
   ]
  },
  {
   "cell_type": "code",
   "execution_count": null,
   "id": "97933c66",
   "metadata": {},
   "outputs": [],
   "source": [
    "def get_impares(campo):\n",
    "    return campo['impares']\n",
    "def get_imparesok(campo):\n",
    "    return campo['imparesok']\n",
    "def get_pares(campo):\n",
    "    return campo['pares']\n",
    "def get_paresok(campo):\n",
    "    return campo['paresok']\n",
    "def get_SomaDezenas(campo):\n",
    "    return campo['SomaDezenas']\n",
    "def get_somadasdezenasOk(campo):\n",
    "    return campo['somadasdezenasOk']"
   ]
  },
  {
   "cell_type": "code",
   "execution_count": null,
   "id": "3ceec03b",
   "metadata": {},
   "outputs": [],
   "source": [
    "temp_df['impares'] = temp_df.apply(lambda x:get_impares(x['parimparsomacalc'],), axis = 1)\n",
    "temp_df['imparesok'] = temp_df.apply(lambda x:get_imparesok(x['parimparsomacalc'],), axis = 1)\n",
    "temp_df['pares'] = temp_df.apply(lambda x:get_pares(x['parimparsomacalc'],), axis = 1)\n",
    "temp_df['paresok'] = temp_df.apply(lambda x:get_paresok(x['parimparsomacalc'],), axis = 1)\n",
    "temp_df['SomaDezenas'] = temp_df.apply(lambda x:get_SomaDezenas(x['parimparsomacalc'],), axis = 1)\n",
    "temp_df['somadasdezenasOk'] = temp_df.apply(lambda x:get_somadasdezenasOk(x['parimparsomacalc'],), axis = 1)"
   ]
  },
  {
   "cell_type": "code",
   "execution_count": null,
   "id": "1cbe62c6",
   "metadata": {},
   "outputs": [],
   "source": [
    "def ret_valor(campo):\n",
    "    if len(campo) == 2:\n",
    "        return campo[1]\n",
    "    else: return campo"
   ]
  },
  {
   "cell_type": "code",
   "execution_count": null,
   "id": "d2e884da",
   "metadata": {},
   "outputs": [],
   "source": [
    "def ret_IntervaloDezena(dezenas):\n",
    "    sorted(dezenas)\n",
    "    valor1 = dezenas[0]\n",
    "    valor2 = dezenas[5]\n",
    "    return (valor1,valor2)\n",
    "    "
   ]
  },
  {
   "cell_type": "code",
   "execution_count": null,
   "id": "b6023d4f",
   "metadata": {},
   "outputs": [],
   "source": [
    "def ret_DezenaNoQuadranteok(campos):\n",
    "    return campos[4]"
   ]
  },
  {
   "cell_type": "code",
   "execution_count": null,
   "id": "30d53999",
   "metadata": {},
   "outputs": [],
   "source": [
    "temp_df['totConsecutivosok'] = temp_df.apply(lambda x:ret_valor(x['totConsecutivos'],), axis = 1)\n",
    "temp_df['TotalColunasok'] = temp_df.apply(lambda x:ret_valor(x['TotalColunas'],), axis = 1)\n",
    "temp_df['TotalLinhasok'] = temp_df.apply(lambda x:ret_valor(x['TotalLinhas'],), axis = 1)\n",
    "temp_df['TotNumquadraticosok'] = temp_df.apply(lambda x:ret_valor(x['TotNumquadraticos'],), axis = 1)\n",
    "temp_df['totPrimosok'] = temp_df.apply(lambda x:ret_valor(x['totPrimos'],), axis = 1)\n",
    "temp_df['DezenaNoQuadranteok'] = temp_df.apply(lambda x:ret_DezenaNoQuadranteok(x['DezenaNoQuadrante'],), axis = 1)\n",
    "temp_df['totFibook'] = temp_df.apply(lambda x:ret_valor(x['totFibo'],), axis = 1)"
   ]
  },
  {
   "cell_type": "code",
   "execution_count": null,
   "id": "b3473e58",
   "metadata": {},
   "outputs": [],
   "source": [
    "temp_df['IntervaloDezena'] = temp_df.apply(lambda x:ret_IntervaloDezena(x['dezenas'],), axis = 1)"
   ]
  },
  {
   "cell_type": "code",
   "execution_count": null,
   "id": "6f98685c",
   "metadata": {},
   "outputs": [],
   "source": [
    "def intervalodezenaOK(d1,d2):\n",
    "    res = False\n",
    "    if d1 in [ 1,  5,  3,  2,  4,  6, 10,  7,  8,  9, 12, 11, 13, 14, 18, 16, 15, 20, 17, 19]:\n",
    "        if d2 in [60, 59, 58, 54, 57, 56, 53, 55, 51, 49, 52, 50, 48, 44, 47, 45, 41,43, 42, 46]:\n",
    "            res = True\n",
    "    return res\n",
    "    \n",
    "temp_df['intervaloddezenaok'] = temp_df.apply(lambda x: intervalodezenaOK(x['IntervaloDezena'][0],x['IntervaloDezena'][1]),axis=1 )\n"
   ]
  },
  {
   "cell_type": "code",
   "execution_count": null,
   "id": "e4b55ca4",
   "metadata": {},
   "outputs": [],
   "source": [
    "def ultimo_sorteiook(val):\n",
    "    ultimo_sorteio = [11,32,35,40,41,48]\n",
    "    res = len(set(val) & set (ultimo_sorteio))\n",
    "    if res == 0:\n",
    "        return True\n",
    "    else:\n",
    "        return False"
   ]
  },
  {
   "cell_type": "code",
   "execution_count": null,
   "id": "5af963d4",
   "metadata": {},
   "outputs": [],
   "source": [
    "temp_df['ultimosorteiook'] = temp_df.apply(lambda x: ultimo_sorteiook(x['dezenas']),axis=1 )\n"
   ]
  },
  {
   "cell_type": "code",
   "execution_count": null,
   "id": "8a2b9439",
   "metadata": {},
   "outputs": [],
   "source": [
    "temp_df.columns"
   ]
  },
  {
   "cell_type": "code",
   "execution_count": null,
   "id": "cded16c4",
   "metadata": {
    "scrolled": true
   },
   "outputs": [],
   "source": [
    "colunas = ['dezenas','qtde_ternos','razaoPA',\n",
    "           'SomaDigitosDezenasOk','TotalDigitosok','CalculaIntervaloDezenaok',\n",
    "          'CalculaMultiplosok','imparesok','paresok',\n",
    "          'somadasdezenasOk','totConsecutivosok','TotalColunasok',\n",
    "          'TotalLinhasok','TotNumquadraticosok','totPrimosok',\n",
    "          'DezenaNoQuadranteok','totFibook','intervaloddezenaok']\n",
    "temp_df[colunas].head(1)"
   ]
  },
  {
   "cell_type": "code",
   "execution_count": null,
   "id": "cce71fb7",
   "metadata": {},
   "outputs": [],
   "source": [
    "df_definitivo = temp_df[['dezenas']].loc [\n",
    "    (temp_df['razaoPA'] == True)\n",
    "    & (temp_df['SomaDigitosDezenasOk'] == True)\n",
    "    \n",
    "    & (temp_df['TotalDigitosok'] == True)\n",
    "    & (temp_df['SomaDigitosDezenasOk'] == True)\n",
    "    & (temp_df['CalculaIntervaloDezenaok'] == True)\n",
    "    & (temp_df['CalculaMultiplosok'] == True)\n",
    "    & (temp_df['imparesok'] == True)\n",
    "    & (temp_df['paresok'] == True)\n",
    "    & (temp_df['somadasdezenasOk'] == True)\n",
    "    & (temp_df['totConsecutivosok'] == True)\n",
    "    & (temp_df['TotalColunasok'] == True)\n",
    "    & (temp_df['TotalLinhasok'] == True)\n",
    "    & (temp_df['TotNumquadraticosok'] == True)\n",
    "    & (temp_df['totPrimosok'] == True)\n",
    "    & (temp_df['DezenaNoQuadranteok'] == True)\n",
    "    & (temp_df['totFibook'] == True)\n",
    "    & (temp_df['intervaloddezenaok'] == True)\n",
    "    & (temp_df['ultimosorteiook'] == True)\n",
    "    \n",
    "\n",
    "]"
   ]
  },
  {
   "cell_type": "code",
   "execution_count": null,
   "id": "33c9ddb1",
   "metadata": {},
   "outputs": [],
   "source": [
    "df_definitivo"
   ]
  },
  {
   "cell_type": "code",
   "execution_count": null,
   "id": "d6668dbc",
   "metadata": {},
   "outputs": [],
   "source": []
  }
 ],
 "metadata": {
  "kernelspec": {
   "display_name": "Python 3 (ipykernel)",
   "language": "python",
   "name": "python3"
  },
  "language_info": {
   "codemirror_mode": {
    "name": "ipython",
    "version": 3
   },
   "file_extension": ".py",
   "mimetype": "text/x-python",
   "name": "python",
   "nbconvert_exporter": "python",
   "pygments_lexer": "ipython3",
   "version": "3.10.9"
  }
 },
 "nbformat": 4,
 "nbformat_minor": 5
}
